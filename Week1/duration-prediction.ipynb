{
 "cells": [
  {
   "cell_type": "markdown",
   "id": "43c3f411",
   "metadata": {},
   "source": [
    "# 01- Intro. Homework"
   ]
  },
  {
   "cell_type": "markdown",
   "id": "278bdbdf",
   "metadata": {},
   "source": [
    "## Q1. Downloading the data"
   ]
  },
  {
   "cell_type": "markdown",
   "id": "3435ae60",
   "metadata": {},
   "source": [
    "We'll use the same [NYC taxi dataset](https://www1.nyc.gov/site/tlc/about/tlc-trip-record-data.page), but instead of \"Green Taxi Trip Records\", we'll use \"Yellow Taxi Trip Records\".\n",
    "\n",
    "Download the data for January and February 2023.\n",
    "\n",
    "Read the data for January. How many columns are there?"
   ]
  },
  {
   "cell_type": "code",
   "execution_count": 1,
   "id": "8f6f7e3d",
   "metadata": {},
   "outputs": [],
   "source": [
    "import pandas as pd\n",
    "import numpy as np\n",
    "from sklearn.feature_extraction import DictVectorizer\n",
    "from sklearn.linear_model import LinearRegression\n",
    "from sklearn.metrics import mean_squared_error"
   ]
  },
  {
   "cell_type": "code",
   "execution_count": 2,
   "id": "d91e9607",
   "metadata": {},
   "outputs": [
    {
     "data": {
      "text/html": [
       "<div>\n",
       "<style scoped>\n",
       "    .dataframe tbody tr th:only-of-type {\n",
       "        vertical-align: middle;\n",
       "    }\n",
       "\n",
       "    .dataframe tbody tr th {\n",
       "        vertical-align: top;\n",
       "    }\n",
       "\n",
       "    .dataframe thead th {\n",
       "        text-align: right;\n",
       "    }\n",
       "</style>\n",
       "<table border=\"1\" class=\"dataframe\">\n",
       "  <thead>\n",
       "    <tr style=\"text-align: right;\">\n",
       "      <th></th>\n",
       "      <th>VendorID</th>\n",
       "      <th>tpep_pickup_datetime</th>\n",
       "      <th>tpep_dropoff_datetime</th>\n",
       "      <th>passenger_count</th>\n",
       "      <th>trip_distance</th>\n",
       "      <th>RatecodeID</th>\n",
       "      <th>store_and_fwd_flag</th>\n",
       "      <th>PULocationID</th>\n",
       "      <th>DOLocationID</th>\n",
       "      <th>payment_type</th>\n",
       "      <th>fare_amount</th>\n",
       "      <th>extra</th>\n",
       "      <th>mta_tax</th>\n",
       "      <th>tip_amount</th>\n",
       "      <th>tolls_amount</th>\n",
       "      <th>improvement_surcharge</th>\n",
       "      <th>total_amount</th>\n",
       "      <th>congestion_surcharge</th>\n",
       "      <th>airport_fee</th>\n",
       "    </tr>\n",
       "  </thead>\n",
       "  <tbody>\n",
       "    <tr>\n",
       "      <th>1820704</th>\n",
       "      <td>2</td>\n",
       "      <td>2023-01-20 08:42:12</td>\n",
       "      <td>2023-01-20 08:49:54</td>\n",
       "      <td>2.0</td>\n",
       "      <td>1.10</td>\n",
       "      <td>1.0</td>\n",
       "      <td>N</td>\n",
       "      <td>237</td>\n",
       "      <td>161</td>\n",
       "      <td>1</td>\n",
       "      <td>9.3</td>\n",
       "      <td>0.0</td>\n",
       "      <td>0.5</td>\n",
       "      <td>1.00</td>\n",
       "      <td>0.0</td>\n",
       "      <td>1.0</td>\n",
       "      <td>14.30</td>\n",
       "      <td>2.5</td>\n",
       "      <td>0.00</td>\n",
       "    </tr>\n",
       "    <tr>\n",
       "      <th>1059391</th>\n",
       "      <td>2</td>\n",
       "      <td>2023-01-12 18:19:27</td>\n",
       "      <td>2023-01-12 18:30:23</td>\n",
       "      <td>1.0</td>\n",
       "      <td>1.63</td>\n",
       "      <td>1.0</td>\n",
       "      <td>N</td>\n",
       "      <td>68</td>\n",
       "      <td>224</td>\n",
       "      <td>1</td>\n",
       "      <td>11.4</td>\n",
       "      <td>2.5</td>\n",
       "      <td>0.5</td>\n",
       "      <td>3.58</td>\n",
       "      <td>0.0</td>\n",
       "      <td>1.0</td>\n",
       "      <td>21.48</td>\n",
       "      <td>2.5</td>\n",
       "      <td>0.00</td>\n",
       "    </tr>\n",
       "    <tr>\n",
       "      <th>1677024</th>\n",
       "      <td>2</td>\n",
       "      <td>2023-01-18 21:20:47</td>\n",
       "      <td>2023-01-18 21:44:37</td>\n",
       "      <td>4.0</td>\n",
       "      <td>12.42</td>\n",
       "      <td>5.0</td>\n",
       "      <td>N</td>\n",
       "      <td>138</td>\n",
       "      <td>265</td>\n",
       "      <td>1</td>\n",
       "      <td>115.0</td>\n",
       "      <td>5.0</td>\n",
       "      <td>0.0</td>\n",
       "      <td>28.06</td>\n",
       "      <td>19.3</td>\n",
       "      <td>1.0</td>\n",
       "      <td>169.61</td>\n",
       "      <td>0.0</td>\n",
       "      <td>1.25</td>\n",
       "    </tr>\n",
       "  </tbody>\n",
       "</table>\n",
       "</div>"
      ],
      "text/plain": [
       "         VendorID tpep_pickup_datetime tpep_dropoff_datetime  passenger_count  \\\n",
       "1820704         2  2023-01-20 08:42:12   2023-01-20 08:49:54              2.0   \n",
       "1059391         2  2023-01-12 18:19:27   2023-01-12 18:30:23              1.0   \n",
       "1677024         2  2023-01-18 21:20:47   2023-01-18 21:44:37              4.0   \n",
       "\n",
       "         trip_distance  RatecodeID store_and_fwd_flag  PULocationID  \\\n",
       "1820704           1.10         1.0                  N           237   \n",
       "1059391           1.63         1.0                  N            68   \n",
       "1677024          12.42         5.0                  N           138   \n",
       "\n",
       "         DOLocationID  payment_type  fare_amount  extra  mta_tax  tip_amount  \\\n",
       "1820704           161             1          9.3    0.0      0.5        1.00   \n",
       "1059391           224             1         11.4    2.5      0.5        3.58   \n",
       "1677024           265             1        115.0    5.0      0.0       28.06   \n",
       "\n",
       "         tolls_amount  improvement_surcharge  total_amount  \\\n",
       "1820704           0.0                    1.0         14.30   \n",
       "1059391           0.0                    1.0         21.48   \n",
       "1677024          19.3                    1.0        169.61   \n",
       "\n",
       "         congestion_surcharge  airport_fee  \n",
       "1820704                   2.5         0.00  \n",
       "1059391                   2.5         0.00  \n",
       "1677024                   0.0         1.25  "
      ]
     },
     "execution_count": 2,
     "metadata": {},
     "output_type": "execute_result"
    }
   ],
   "source": [
    "# Load DataFrame from Parquet file\n",
    "df = pd.read_parquet('./data/yellow_tripdata_2023-01.parquet')\n",
    "df.sample(3)"
   ]
  },
  {
   "cell_type": "code",
   "execution_count": 3,
   "id": "444eae9e",
   "metadata": {},
   "outputs": [
    {
     "name": "stdout",
     "output_type": "stream",
     "text": [
      "the number of columns in January is: 19\n"
     ]
    }
   ],
   "source": [
    "# Calculate number of columns\n",
    "print(f'the number of columns in January is: {len(df.columns)}')"
   ]
  },
  {
   "cell_type": "markdown",
   "id": "b3674c2a",
   "metadata": {},
   "source": [
    "## Q2. Computing duration\n",
    "Now let's compute the duration variable. It should contain the duration of a ride in minutes.\n",
    "\n",
    "What's the standard deviation of the trips duration in January?"
   ]
  },
  {
   "cell_type": "code",
   "execution_count": 4,
   "id": "c0c5f3ce",
   "metadata": {},
   "outputs": [],
   "source": [
    "# Create 'duration' column\n",
    "df['duration'] = df.tpep_dropoff_datetime - df.tpep_pickup_datetime"
   ]
  },
  {
   "cell_type": "code",
   "execution_count": 5,
   "id": "b2b46979",
   "metadata": {},
   "outputs": [],
   "source": [
    "# Convert to minutes\n",
    "df.duration = df.duration.apply(lambda td: td.total_seconds() / 60)"
   ]
  },
  {
   "cell_type": "code",
   "execution_count": 6,
   "id": "79cc60c2",
   "metadata": {},
   "outputs": [
    {
     "data": {
      "text/html": [
       "<div>\n",
       "<style scoped>\n",
       "    .dataframe tbody tr th:only-of-type {\n",
       "        vertical-align: middle;\n",
       "    }\n",
       "\n",
       "    .dataframe tbody tr th {\n",
       "        vertical-align: top;\n",
       "    }\n",
       "\n",
       "    .dataframe thead th {\n",
       "        text-align: right;\n",
       "    }\n",
       "</style>\n",
       "<table border=\"1\" class=\"dataframe\">\n",
       "  <thead>\n",
       "    <tr style=\"text-align: right;\">\n",
       "      <th></th>\n",
       "      <th>VendorID</th>\n",
       "      <th>tpep_pickup_datetime</th>\n",
       "      <th>tpep_dropoff_datetime</th>\n",
       "      <th>passenger_count</th>\n",
       "      <th>trip_distance</th>\n",
       "      <th>RatecodeID</th>\n",
       "      <th>store_and_fwd_flag</th>\n",
       "      <th>PULocationID</th>\n",
       "      <th>DOLocationID</th>\n",
       "      <th>payment_type</th>\n",
       "      <th>fare_amount</th>\n",
       "      <th>extra</th>\n",
       "      <th>mta_tax</th>\n",
       "      <th>tip_amount</th>\n",
       "      <th>tolls_amount</th>\n",
       "      <th>improvement_surcharge</th>\n",
       "      <th>total_amount</th>\n",
       "      <th>congestion_surcharge</th>\n",
       "      <th>airport_fee</th>\n",
       "      <th>duration</th>\n",
       "    </tr>\n",
       "  </thead>\n",
       "  <tbody>\n",
       "    <tr>\n",
       "      <th>697855</th>\n",
       "      <td>2</td>\n",
       "      <td>2023-01-08 22:13:00</td>\n",
       "      <td>2023-01-08 22:30:33</td>\n",
       "      <td>2.0</td>\n",
       "      <td>4.31</td>\n",
       "      <td>1.0</td>\n",
       "      <td>N</td>\n",
       "      <td>230</td>\n",
       "      <td>13</td>\n",
       "      <td>1</td>\n",
       "      <td>22.6</td>\n",
       "      <td>1.0</td>\n",
       "      <td>0.5</td>\n",
       "      <td>5.52</td>\n",
       "      <td>0.00</td>\n",
       "      <td>1.0</td>\n",
       "      <td>33.12</td>\n",
       "      <td>2.5</td>\n",
       "      <td>0.0</td>\n",
       "      <td>17.550000</td>\n",
       "    </tr>\n",
       "    <tr>\n",
       "      <th>1856493</th>\n",
       "      <td>2</td>\n",
       "      <td>2023-01-20 16:26:03</td>\n",
       "      <td>2023-01-20 17:29:26</td>\n",
       "      <td>1.0</td>\n",
       "      <td>17.57</td>\n",
       "      <td>2.0</td>\n",
       "      <td>N</td>\n",
       "      <td>162</td>\n",
       "      <td>132</td>\n",
       "      <td>1</td>\n",
       "      <td>70.0</td>\n",
       "      <td>5.0</td>\n",
       "      <td>0.5</td>\n",
       "      <td>17.11</td>\n",
       "      <td>6.55</td>\n",
       "      <td>1.0</td>\n",
       "      <td>102.66</td>\n",
       "      <td>2.5</td>\n",
       "      <td>0.0</td>\n",
       "      <td>63.383333</td>\n",
       "    </tr>\n",
       "    <tr>\n",
       "      <th>1217294</th>\n",
       "      <td>1</td>\n",
       "      <td>2023-01-14 06:17:41</td>\n",
       "      <td>2023-01-14 06:23:51</td>\n",
       "      <td>2.0</td>\n",
       "      <td>1.60</td>\n",
       "      <td>1.0</td>\n",
       "      <td>N</td>\n",
       "      <td>48</td>\n",
       "      <td>239</td>\n",
       "      <td>2</td>\n",
       "      <td>9.3</td>\n",
       "      <td>2.5</td>\n",
       "      <td>0.5</td>\n",
       "      <td>0.00</td>\n",
       "      <td>0.00</td>\n",
       "      <td>1.0</td>\n",
       "      <td>13.30</td>\n",
       "      <td>2.5</td>\n",
       "      <td>0.0</td>\n",
       "      <td>6.166667</td>\n",
       "    </tr>\n",
       "  </tbody>\n",
       "</table>\n",
       "</div>"
      ],
      "text/plain": [
       "         VendorID tpep_pickup_datetime tpep_dropoff_datetime  passenger_count  \\\n",
       "697855          2  2023-01-08 22:13:00   2023-01-08 22:30:33              2.0   \n",
       "1856493         2  2023-01-20 16:26:03   2023-01-20 17:29:26              1.0   \n",
       "1217294         1  2023-01-14 06:17:41   2023-01-14 06:23:51              2.0   \n",
       "\n",
       "         trip_distance  RatecodeID store_and_fwd_flag  PULocationID  \\\n",
       "697855            4.31         1.0                  N           230   \n",
       "1856493          17.57         2.0                  N           162   \n",
       "1217294           1.60         1.0                  N            48   \n",
       "\n",
       "         DOLocationID  payment_type  fare_amount  extra  mta_tax  tip_amount  \\\n",
       "697855             13             1         22.6    1.0      0.5        5.52   \n",
       "1856493           132             1         70.0    5.0      0.5       17.11   \n",
       "1217294           239             2          9.3    2.5      0.5        0.00   \n",
       "\n",
       "         tolls_amount  improvement_surcharge  total_amount  \\\n",
       "697855           0.00                    1.0         33.12   \n",
       "1856493          6.55                    1.0        102.66   \n",
       "1217294          0.00                    1.0         13.30   \n",
       "\n",
       "         congestion_surcharge  airport_fee   duration  \n",
       "697855                    2.5          0.0  17.550000  \n",
       "1856493                   2.5          0.0  63.383333  \n",
       "1217294                   2.5          0.0   6.166667  "
      ]
     },
     "execution_count": 6,
     "metadata": {},
     "output_type": "execute_result"
    }
   ],
   "source": [
    "df.sample(3)"
   ]
  },
  {
   "cell_type": "code",
   "execution_count": 7,
   "id": "11acf38b",
   "metadata": {},
   "outputs": [
    {
     "name": "stdout",
     "output_type": "stream",
     "text": [
      "the standard deviation of the trips in January is: 42.59\n"
     ]
    }
   ],
   "source": [
    "# Deviation standard of duration\n",
    "std_duration = df['duration'].std()\n",
    "print(f'the standard deviation of the trips in January is: {round(std_duration,2)}')"
   ]
  },
  {
   "cell_type": "markdown",
   "id": "e971c31e",
   "metadata": {},
   "source": [
    "## Q3. Dropping outliers"
   ]
  },
  {
   "cell_type": "markdown",
   "id": "49099e5e",
   "metadata": {},
   "source": [
    "Next, we need to check the distribution of the duration variable. There are some outliers. Let's remove them and keep only the records where the duration was between 1 and 60 minutes (inclusive).\n",
    "\n",
    "What fraction of the records left after you dropped the outliers?"
   ]
  },
  {
   "cell_type": "code",
   "execution_count": 8,
   "id": "86ef6343",
   "metadata": {},
   "outputs": [
    {
     "name": "stdout",
     "output_type": "stream",
     "text": [
      "count    3.066766e+06\n",
      "mean     1.566900e+01\n",
      "std      4.259435e+01\n",
      "min     -2.920000e+01\n",
      "25%      7.116667e+00\n",
      "50%      1.151667e+01\n",
      "75%      1.830000e+01\n",
      "max      1.002918e+04\n",
      "Name: duration, dtype: float64\n"
     ]
    }
   ],
   "source": [
    "# Check the distribution of the duration\n",
    "print(df['duration'].describe())"
   ]
  },
  {
   "cell_type": "code",
   "execution_count": 9,
   "id": "16439553",
   "metadata": {},
   "outputs": [],
   "source": [
    "# Filter records with duration between 1 and 60 minutes (inclusive)\n",
    "df_filtered = df[(df['duration'] >= 1) & (df['duration'] <= 60)].copy()"
   ]
  },
  {
   "cell_type": "code",
   "execution_count": 10,
   "id": "ba410aab",
   "metadata": {},
   "outputs": [
    {
     "name": "stdout",
     "output_type": "stream",
     "text": [
      "count    3.009173e+06\n",
      "mean     1.420486e+01\n",
      "std      9.939386e+00\n",
      "min      1.000000e+00\n",
      "25%      7.216667e+00\n",
      "50%      1.155000e+01\n",
      "75%      1.818333e+01\n",
      "max      6.000000e+01\n",
      "Name: duration, dtype: float64\n"
     ]
    }
   ],
   "source": [
    "# Check duration distribution after filtering\n",
    "print(df_filtered['duration'].describe())"
   ]
  },
  {
   "cell_type": "code",
   "execution_count": 11,
   "id": "249ec0c3",
   "metadata": {},
   "outputs": [
    {
     "name": "stdout",
     "output_type": "stream",
     "text": [
      "Fraction of records left after dropping outliers: 98%\n"
     ]
    }
   ],
   "source": [
    "# Calculate the fraction of records remaining\n",
    "fraction_remaining = len(df_filtered) / len(df)\n",
    "print(f'Fraction of records left after dropping outliers: {round(fraction_remaining*100)}%')"
   ]
  },
  {
   "cell_type": "markdown",
   "id": "310d2164",
   "metadata": {},
   "source": [
    "## Q4. One-hot encoding"
   ]
  },
  {
   "cell_type": "markdown",
   "id": "a7f38e50",
   "metadata": {},
   "source": [
    "Let's apply one-hot encoding to the pickup and dropoff location IDs. We'll use only these two features for our model.\n",
    "\n",
    "- Turn the dataframe into a list of dictionaries (remember to re-cast the ids to strings - otherwise it will label encode them)\n",
    "- Fit a dictionary vectorizer\n",
    "- Get a feature matrix from it\n",
    "\n",
    "What's the dimensionality of this matrix (number of columns)?\n"
   ]
  },
  {
   "cell_type": "code",
   "execution_count": 12,
   "id": "2d3ef4a0",
   "metadata": {},
   "outputs": [],
   "source": [
    "# Cast the pickup and dropoff location IDs to strings\n",
    "df_filtered['PULocationID'] = df_filtered['PULocationID'].astype(str)\n",
    "df_filtered['DOLocationID'] = df_filtered['DOLocationID'].astype(str)"
   ]
  },
  {
   "cell_type": "code",
   "execution_count": 13,
   "id": "b8c5f70b",
   "metadata": {},
   "outputs": [],
   "source": [
    "# Turn the DataFrame into a list of dictionaries\n",
    "df_dicts = df_filtered[['PULocationID', 'DOLocationID']].to_dict(orient='records')"
   ]
  },
  {
   "cell_type": "code",
   "execution_count": 14,
   "id": "bb34e0f5",
   "metadata": {},
   "outputs": [],
   "source": [
    "# Fit a dictionary vectorizer\n",
    "dv = DictVectorizer(sparse=True)\n",
    "feature_matrix = dv.fit_transform(df_dicts)"
   ]
  },
  {
   "cell_type": "code",
   "execution_count": 15,
   "id": "2ec46d62",
   "metadata": {},
   "outputs": [
    {
     "name": "stdout",
     "output_type": "stream",
     "text": [
      "The dimensionality of the feature matrix (number of columns): 515\n"
     ]
    }
   ],
   "source": [
    "# Check the dimensionality of the feature matrix\n",
    "num_columns = feature_matrix.shape[1]\n",
    "print(f'The dimensionality of the feature matrix (number of columns): {num_columns}')"
   ]
  },
  {
   "cell_type": "markdown",
   "id": "df98665d",
   "metadata": {},
   "source": [
    "## Q5. Training a model"
   ]
  },
  {
   "cell_type": "markdown",
   "id": "af0ad76c",
   "metadata": {},
   "source": [
    "Now let's use the feature matrix from the previous step to train a model.\n",
    "\n",
    "- Train a plain linear regression model with default parameters\n",
    "- Calculate the RMSE of the model on the training data\n",
    "\n",
    "What's the RMSE on train?"
   ]
  },
  {
   "cell_type": "code",
   "execution_count": 16,
   "id": "da9749db",
   "metadata": {},
   "outputs": [],
   "source": [
    "# Prepare the target variable (duration)\n",
    "y_train = df_filtered['duration'].values"
   ]
  },
  {
   "cell_type": "code",
   "execution_count": 17,
   "id": "8fdda5e4",
   "metadata": {},
   "outputs": [
    {
     "data": {
      "text/plain": [
       "LinearRegression()"
      ]
     },
     "execution_count": 17,
     "metadata": {},
     "output_type": "execute_result"
    }
   ],
   "source": [
    "# Train a plain linear regression model with default parameters\n",
    "model = LinearRegression()\n",
    "model.fit(feature_matrix, y_train)"
   ]
  },
  {
   "cell_type": "code",
   "execution_count": 19,
   "id": "07adfdb5",
   "metadata": {},
   "outputs": [],
   "source": [
    "# Predict the target variable on the training data\n",
    "y_train_pred = model.predict(feature_matrix)"
   ]
  },
  {
   "cell_type": "code",
   "execution_count": 20,
   "id": "9002e638",
   "metadata": {},
   "outputs": [
    {
     "name": "stdout",
     "output_type": "stream",
     "text": [
      "RMSE on training data: 7.65\n"
     ]
    }
   ],
   "source": [
    "# Calculate the RMSE on the training data\n",
    "rmse_train = np.sqrt(mean_squared_error(y_train, y_train_pred))\n",
    "print(f'RMSE on training data: {rmse_train:.2f}')"
   ]
  },
  {
   "cell_type": "markdown",
   "id": "61a6cde0",
   "metadata": {},
   "source": [
    "## Q6. Evaluating the model"
   ]
  },
  {
   "cell_type": "markdown",
   "id": "287681a7",
   "metadata": {},
   "source": [
    "Now let's apply this model to the validation dataset (February 2023).\n",
    "\n",
    "What's the RMSE on validation?"
   ]
  },
  {
   "cell_type": "code",
   "execution_count": 21,
   "id": "b531984f",
   "metadata": {},
   "outputs": [],
   "source": [
    "# Load the validation DataFrame from the Parquet file\n",
    "df_val = pd.read_parquet('./data/yellow_tripdata_2023-02.parquet')\n",
    "\n",
    "# Create the 'duration' column in minutes using vectorized operations\n",
    "df_val['duration'] = (df_val.tpep_dropoff_datetime - df_val.tpep_pickup_datetime).dt.total_seconds() / 60\n",
    "\n",
    "# Filter records with duration between 1 and 60 minutes (inclusive)\n",
    "df_val_filtered = df_val[(df_val['duration'] >= 1) & (df_val['duration'] <= 60)].copy()\n",
    "\n",
    "# Cast the pickup and dropoff location IDs to strings\n",
    "df_val_filtered['PULocationID'] = df_val_filtered['PULocationID'].astype(str)\n",
    "df_val_filtered['DOLocationID'] = df_val_filtered['DOLocationID'].astype(str)\n",
    "\n",
    "# Turn the validation DataFrame into a list of dictionaries\n",
    "data_dicts_val = df_val_filtered[['PULocationID', 'DOLocationID']].to_dict(orient='records')"
   ]
  },
  {
   "cell_type": "code",
   "execution_count": 22,
   "id": "ad8a6670",
   "metadata": {},
   "outputs": [],
   "source": [
    "# Transform the validation data using the fitted DictVectorizer\n",
    "feature_matrix_val = dv.transform(data_dicts_val)\n",
    "\n",
    "# Prepare the target variable (duration) for validation data\n",
    "y_val = df_val_filtered['duration'].values"
   ]
  },
  {
   "cell_type": "code",
   "execution_count": 23,
   "id": "e00cbce0",
   "metadata": {},
   "outputs": [],
   "source": [
    "# Predict the target variable on the validation data\n",
    "y_val_pred = model.predict(feature_matrix_val)"
   ]
  },
  {
   "cell_type": "code",
   "execution_count": 24,
   "id": "3f3b3991",
   "metadata": {},
   "outputs": [
    {
     "name": "stdout",
     "output_type": "stream",
     "text": [
      "RMSE on validation data: 7.81\n"
     ]
    }
   ],
   "source": [
    "# Calculate the RMSE on the validation data\n",
    "rmse_val = np.sqrt(mean_squared_error(y_val, y_val_pred))\n",
    "print(f'RMSE on validation data: {rmse_val:.2f}')"
   ]
  },
  {
   "cell_type": "code",
   "execution_count": null,
   "id": "eb9ba4f4",
   "metadata": {},
   "outputs": [],
   "source": []
  }
 ],
 "metadata": {
  "kernelspec": {
   "display_name": "Python 3 (ipykernel)",
   "language": "python",
   "name": "python3"
  },
  "language_info": {
   "codemirror_mode": {
    "name": "ipython",
    "version": 3
   },
   "file_extension": ".py",
   "mimetype": "text/x-python",
   "name": "python",
   "nbconvert_exporter": "python",
   "pygments_lexer": "ipython3",
   "version": "3.9.12"
  }
 },
 "nbformat": 4,
 "nbformat_minor": 5
}
